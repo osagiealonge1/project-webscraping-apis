{
 "cells": [
  {
   "cell_type": "code",
   "execution_count": null,
   "id": "27997134",
   "metadata": {},
   "outputs": [],
   "source": [
    "import os\n",
    "from openai import AsyncOpenAI\n",
    "\n",
    "# Set the environment variable OPENAI_API_KEY to your API key beforehand\n",
    "api_key = open(\"cgptkey.txt\", \"r\").read().strip('\\n')\n",
    "os.environ[\"OPENAI_API_KEY\"] = api_key\n",
    "\n",
    "# Initialize your AsyncOpenAI client with the environment variable\n",
    "client = AsyncOpenAI(api_key=os.getenv(\"OPENAI_API_KEY\"))"
   ]
  },
  {
   "cell_type": "code",
   "execution_count": null,
   "id": "eaf3bdad",
   "metadata": {},
   "outputs": [],
   "source": [
    "completion = await client.chat.completions.create(\n",
    "    model=\"gpt-3.5-turbo\", \n",
    "    messages=[{\"role\": \"user\", \"content\": \"Name 5 Pollen allergies - just their names\"}]\n",
    ")\n",
    "\n",
    "# Accessing the text of the first choice's message\n",
    "reply_content = completion.choices[0].message.content\n",
    "print(reply_content)"
   ]
  },
  {
   "cell_type": "code",
   "execution_count": null,
   "id": "c036e804",
   "metadata": {},
   "outputs": [],
   "source": [
    "# Create empty list to sotre the user's input\n",
    "message_history = []\n",
    "\n",
    "user_input = input(\">: \")  # Get input from the user\n",
    "print(\"User's input is\", user_input)\n",
    "\n",
    "# Append the user input to the message history\n",
    "message_history.append({\n",
    "    \"role\": \"user\",\n",
    "    \"content\": user_input\n",
    "})"
   ]
  },
  {
   "cell_type": "code",
   "execution_count": null,
   "id": "05f938e0",
   "metadata": {
    "scrolled": true
   },
   "outputs": [],
   "source": [
    "completion = await client.chat.completions.create(\n",
    "    model=\"gpt-3.5-turbo\", \n",
    "    messages=message_history,\n",
    ")\n",
    "\n",
    "# Extract the message content from the completion and print it\n",
    "reply_content = completion.choices[0].message.content\n",
    "print(reply_content)\n",
    "\n",
    "# Append the AI's response to the message history\n",
    "message_history.append({\n",
    "    \"role\": \"assistant\",\n",
    "    \"content\": reply_content\n",
    "})"
   ]
  },
  {
   "cell_type": "code",
   "execution_count": null,
   "id": "eae5e605",
   "metadata": {
    "scrolled": true
   },
   "outputs": [],
   "source": [
    "user_input = input(\">: \")  # Get input from the user\n",
    "print(\"User's input is:\", user_input)\n",
    "print()\n",
    "\n",
    "# Append the user input to the message history\n",
    "message_history.append({\n",
    "    \"role\": \"user\",\n",
    "    \"content\": user_input\n",
    "})\n",
    "\n",
    "# Make an API call to OpenAI\n",
    "completion = await client.chat.completions.create(\n",
    "    model=\"gpt-3.5-turbo\", \n",
    "    messages=message_history,\n",
    ")\n",
    "\n",
    "# Extract the message content from the completion and print it\n",
    "reply_content = completion.choices[0].message.content\n",
    "print(reply_content)"
   ]
  },
  {
   "cell_type": "code",
   "execution_count": null,
   "id": "fe1b1065",
   "metadata": {},
   "outputs": [],
   "source": [
    "# Asynchronous function to chat with the OpenAI API\n",
    "async def chat(inp, role=\"user\"):\n",
    "    # Append the input to the message history\n",
    "    message_history.append({\"role\": role, \"content\": inp})\n",
    "\n",
    "    # Get the completion from the OpenAI API using the existing client\n",
    "    completion = await client.chat.completions.create(\n",
    "        model=\"gpt-3.5-turbo\",\n",
    "        messages=message_history,\n",
    "    )\n",
    "\n",
    "    # Extract the reply content\n",
    "    reply_content = completion.choices[0].message.content\n",
    "    print(reply_content)\n",
    "\n",
    "    # Append the assistant's reply to the message history\n",
    "    message_history.append({\"role\": \"assistant\", \"content\": reply_content})\n",
    "\n",
    "    return reply_content\n",
    "\n",
    "# The main function where you run your chat\n",
    "async def main():\n",
    "    for i in range(10):\n",
    "        user_input = input(\"> \")\n",
    "        print()\n",
    "        await chat(user_input)\n",
    "        print()\n",
    "\n",
    "# Run the main coroutine\n",
    "await main()\n"
   ]
  }
 ],
 "metadata": {
  "kernelspec": {
   "display_name": "Python 3 (ipykernel)",
   "language": "python",
   "name": "python3"
  },
  "language_info": {
   "codemirror_mode": {
    "name": "ipython",
    "version": 3
   },
   "file_extension": ".py",
   "mimetype": "text/x-python",
   "name": "python",
   "nbconvert_exporter": "python",
   "pygments_lexer": "ipython3",
   "version": "3.11.4"
  }
 },
 "nbformat": 4,
 "nbformat_minor": 5
}
